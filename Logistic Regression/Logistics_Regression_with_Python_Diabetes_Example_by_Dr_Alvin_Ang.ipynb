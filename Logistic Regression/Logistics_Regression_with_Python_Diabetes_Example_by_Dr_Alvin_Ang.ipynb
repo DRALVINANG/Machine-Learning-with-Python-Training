{
  "nbformat": 4,
  "nbformat_minor": 0,
  "metadata": {
    "colab": {
      "provenance": [],
      "collapsed_sections": [],
      "toc_visible": true
    },
    "kernelspec": {
      "name": "python3",
      "display_name": "Python 3"
    },
    "language_info": {
      "name": "python"
    }
  },
  "cells": [
    {
      "cell_type": "markdown",
      "source": [
        "https://medium.com/@pragya_paudyal/diabetics-prediction-using-logistic-regression-in-python-e51b90630f2f\n",
        "\n",
        "https://www.javatpoint.com/logistic-regression-in-machine-learning\n",
        "\n",
        "https://medium.com/the-researchers-guide/binary-logistic-regression-using-python-research-oriented-modelling-and-interpretation-49b025f1b510\n",
        "\n",
        "https://github.com/rahul-raoniar/Rahul_Raoniar_Blogs"
      ],
      "metadata": {
        "id": "9qy8tB1-LiCE"
      }
    },
    {
      "cell_type": "markdown",
      "source": [
        "\n",
        "\n",
        "---\n",
        "\n"
      ],
      "metadata": {
        "id": "TCVyXIeILgxo"
      }
    },
    {
      "cell_type": "markdown",
      "source": [
        "#Step 1: Import Dataset"
      ],
      "metadata": {
        "id": "tyzYZ52TL2qY"
      }
    },
    {
      "cell_type": "markdown",
      "source": [
        "##1a) Import Libraries"
      ],
      "metadata": {
        "id": "V2yMAKYBMQWb"
      }
    },
    {
      "cell_type": "code",
      "source": [
        "import pandas as pd\n",
        "import matplotlib.pyplot as plt\n",
        "import seaborn as sns"
      ],
      "metadata": {
        "id": "C6WoF0VowILJ"
      },
      "execution_count": 86,
      "outputs": []
    },
    {
      "cell_type": "markdown",
      "source": [
        "##1b) Import Diabetes Dataset"
      ],
      "metadata": {
        "id": "TCpQhSVJMTB1"
      }
    },
    {
      "cell_type": "code",
      "source": [
        "diabetes = pd.read_csv(\"https://www.alvinang.sg/s/diabetes.csv\")"
      ],
      "metadata": {
        "id": "kYefz1zBwMk4"
      },
      "execution_count": 87,
      "outputs": []
    },
    {
      "cell_type": "code",
      "source": [
        "diabetes.sample(5)\n",
        "\n",
        "#pregnant: Number of times pregnant\n",
        "#glucose: Plasma glucose concentration (glucose tolerance test)\n",
        "#pressure: Diastolic blood pressure (mm Hg)\n",
        "#triceps: Triceps skin fold thickness (mm)\n",
        "#insulin: 2-Hour serum insulin (mu U/ml)\n",
        "#mass: Body mass index (weight in kg/(height in m)\\²)\n",
        "#pedigree: Diabetes pedigree function\n",
        "#age: Age (years)\n",
        "\n",
        "#diabetes: diabetes case (pos/neg)"
      ],
      "metadata": {
        "colab": {
          "base_uri": "https://localhost:8080/",
          "height": 206
        },
        "id": "wi8w77bRwRK2",
        "outputId": "405f5a1d-6490-4635-c4d1-ae8f2968003b"
      },
      "execution_count": 88,
      "outputs": [
        {
          "output_type": "execute_result",
          "data": {
            "text/plain": [
              "     pregnant  glucose  pressure  triceps  insulin  mass  pedigree  age  \\\n",
              "242         2      105        80       45      191  33.7     0.711   29   \n",
              "38          4      123        80       15      176  32.0     0.443   34   \n",
              "82          6      134        70       23      130  35.4     0.542   29   \n",
              "177        12       88        74       40       54  35.3     0.378   48   \n",
              "151         0      137        68       14      148  24.8     0.143   21   \n",
              "\n",
              "    diabetes  \n",
              "242      pos  \n",
              "38       neg  \n",
              "82       pos  \n",
              "177      neg  \n",
              "151      neg  "
            ],
            "text/html": [
              "\n",
              "  <div id=\"df-5d057044-917d-4728-8bda-aee0239eef92\">\n",
              "    <div class=\"colab-df-container\">\n",
              "      <div>\n",
              "<style scoped>\n",
              "    .dataframe tbody tr th:only-of-type {\n",
              "        vertical-align: middle;\n",
              "    }\n",
              "\n",
              "    .dataframe tbody tr th {\n",
              "        vertical-align: top;\n",
              "    }\n",
              "\n",
              "    .dataframe thead th {\n",
              "        text-align: right;\n",
              "    }\n",
              "</style>\n",
              "<table border=\"1\" class=\"dataframe\">\n",
              "  <thead>\n",
              "    <tr style=\"text-align: right;\">\n",
              "      <th></th>\n",
              "      <th>pregnant</th>\n",
              "      <th>glucose</th>\n",
              "      <th>pressure</th>\n",
              "      <th>triceps</th>\n",
              "      <th>insulin</th>\n",
              "      <th>mass</th>\n",
              "      <th>pedigree</th>\n",
              "      <th>age</th>\n",
              "      <th>diabetes</th>\n",
              "    </tr>\n",
              "  </thead>\n",
              "  <tbody>\n",
              "    <tr>\n",
              "      <th>242</th>\n",
              "      <td>2</td>\n",
              "      <td>105</td>\n",
              "      <td>80</td>\n",
              "      <td>45</td>\n",
              "      <td>191</td>\n",
              "      <td>33.7</td>\n",
              "      <td>0.711</td>\n",
              "      <td>29</td>\n",
              "      <td>pos</td>\n",
              "    </tr>\n",
              "    <tr>\n",
              "      <th>38</th>\n",
              "      <td>4</td>\n",
              "      <td>123</td>\n",
              "      <td>80</td>\n",
              "      <td>15</td>\n",
              "      <td>176</td>\n",
              "      <td>32.0</td>\n",
              "      <td>0.443</td>\n",
              "      <td>34</td>\n",
              "      <td>neg</td>\n",
              "    </tr>\n",
              "    <tr>\n",
              "      <th>82</th>\n",
              "      <td>6</td>\n",
              "      <td>134</td>\n",
              "      <td>70</td>\n",
              "      <td>23</td>\n",
              "      <td>130</td>\n",
              "      <td>35.4</td>\n",
              "      <td>0.542</td>\n",
              "      <td>29</td>\n",
              "      <td>pos</td>\n",
              "    </tr>\n",
              "    <tr>\n",
              "      <th>177</th>\n",
              "      <td>12</td>\n",
              "      <td>88</td>\n",
              "      <td>74</td>\n",
              "      <td>40</td>\n",
              "      <td>54</td>\n",
              "      <td>35.3</td>\n",
              "      <td>0.378</td>\n",
              "      <td>48</td>\n",
              "      <td>neg</td>\n",
              "    </tr>\n",
              "    <tr>\n",
              "      <th>151</th>\n",
              "      <td>0</td>\n",
              "      <td>137</td>\n",
              "      <td>68</td>\n",
              "      <td>14</td>\n",
              "      <td>148</td>\n",
              "      <td>24.8</td>\n",
              "      <td>0.143</td>\n",
              "      <td>21</td>\n",
              "      <td>neg</td>\n",
              "    </tr>\n",
              "  </tbody>\n",
              "</table>\n",
              "</div>\n",
              "      <button class=\"colab-df-convert\" onclick=\"convertToInteractive('df-5d057044-917d-4728-8bda-aee0239eef92')\"\n",
              "              title=\"Convert this dataframe to an interactive table.\"\n",
              "              style=\"display:none;\">\n",
              "        \n",
              "  <svg xmlns=\"http://www.w3.org/2000/svg\" height=\"24px\"viewBox=\"0 0 24 24\"\n",
              "       width=\"24px\">\n",
              "    <path d=\"M0 0h24v24H0V0z\" fill=\"none\"/>\n",
              "    <path d=\"M18.56 5.44l.94 2.06.94-2.06 2.06-.94-2.06-.94-.94-2.06-.94 2.06-2.06.94zm-11 1L8.5 8.5l.94-2.06 2.06-.94-2.06-.94L8.5 2.5l-.94 2.06-2.06.94zm10 10l.94 2.06.94-2.06 2.06-.94-2.06-.94-.94-2.06-.94 2.06-2.06.94z\"/><path d=\"M17.41 7.96l-1.37-1.37c-.4-.4-.92-.59-1.43-.59-.52 0-1.04.2-1.43.59L10.3 9.45l-7.72 7.72c-.78.78-.78 2.05 0 2.83L4 21.41c.39.39.9.59 1.41.59.51 0 1.02-.2 1.41-.59l7.78-7.78 2.81-2.81c.8-.78.8-2.07 0-2.86zM5.41 20L4 18.59l7.72-7.72 1.47 1.35L5.41 20z\"/>\n",
              "  </svg>\n",
              "      </button>\n",
              "      \n",
              "  <style>\n",
              "    .colab-df-container {\n",
              "      display:flex;\n",
              "      flex-wrap:wrap;\n",
              "      gap: 12px;\n",
              "    }\n",
              "\n",
              "    .colab-df-convert {\n",
              "      background-color: #E8F0FE;\n",
              "      border: none;\n",
              "      border-radius: 50%;\n",
              "      cursor: pointer;\n",
              "      display: none;\n",
              "      fill: #1967D2;\n",
              "      height: 32px;\n",
              "      padding: 0 0 0 0;\n",
              "      width: 32px;\n",
              "    }\n",
              "\n",
              "    .colab-df-convert:hover {\n",
              "      background-color: #E2EBFA;\n",
              "      box-shadow: 0px 1px 2px rgba(60, 64, 67, 0.3), 0px 1px 3px 1px rgba(60, 64, 67, 0.15);\n",
              "      fill: #174EA6;\n",
              "    }\n",
              "\n",
              "    [theme=dark] .colab-df-convert {\n",
              "      background-color: #3B4455;\n",
              "      fill: #D2E3FC;\n",
              "    }\n",
              "\n",
              "    [theme=dark] .colab-df-convert:hover {\n",
              "      background-color: #434B5C;\n",
              "      box-shadow: 0px 1px 3px 1px rgba(0, 0, 0, 0.15);\n",
              "      filter: drop-shadow(0px 1px 2px rgba(0, 0, 0, 0.3));\n",
              "      fill: #FFFFFF;\n",
              "    }\n",
              "  </style>\n",
              "\n",
              "      <script>\n",
              "        const buttonEl =\n",
              "          document.querySelector('#df-5d057044-917d-4728-8bda-aee0239eef92 button.colab-df-convert');\n",
              "        buttonEl.style.display =\n",
              "          google.colab.kernel.accessAllowed ? 'block' : 'none';\n",
              "\n",
              "        async function convertToInteractive(key) {\n",
              "          const element = document.querySelector('#df-5d057044-917d-4728-8bda-aee0239eef92');\n",
              "          const dataTable =\n",
              "            await google.colab.kernel.invokeFunction('convertToInteractive',\n",
              "                                                     [key], {});\n",
              "          if (!dataTable) return;\n",
              "\n",
              "          const docLinkHtml = 'Like what you see? Visit the ' +\n",
              "            '<a target=\"_blank\" href=https://colab.research.google.com/notebooks/data_table.ipynb>data table notebook</a>'\n",
              "            + ' to learn more about interactive tables.';\n",
              "          element.innerHTML = '';\n",
              "          dataTable['output_type'] = 'display_data';\n",
              "          await google.colab.output.renderOutput(dataTable, element);\n",
              "          const docLink = document.createElement('div');\n",
              "          docLink.innerHTML = docLinkHtml;\n",
              "          element.appendChild(docLink);\n",
              "        }\n",
              "      </script>\n",
              "    </div>\n",
              "  </div>\n",
              "  "
            ]
          },
          "metadata": {},
          "execution_count": 88
        }
      ]
    },
    {
      "cell_type": "markdown",
      "source": [
        "##1c) Map Negative to 0 and Positive to 1"
      ],
      "metadata": {
        "id": "vUSRgvyWMXQz"
      }
    },
    {
      "cell_type": "code",
      "source": [
        "diabetes['diabetes'] = diabetes['diabetes'].map({'neg':0, 'pos':1})"
      ],
      "metadata": {
        "id": "F6xqx1i8wnQ5"
      },
      "execution_count": 89,
      "outputs": []
    },
    {
      "cell_type": "markdown",
      "source": [
        "\n",
        "\n",
        "---\n",
        "\n"
      ],
      "metadata": {
        "id": "QHsOux-eNJwE"
      }
    },
    {
      "cell_type": "markdown",
      "source": [
        "#Step 2: Plotting"
      ],
      "metadata": {
        "id": "9odWg7NeNGaT"
      }
    },
    {
      "cell_type": "markdown",
      "source": [
        "##2a) Counting the Number of Diabetics"
      ],
      "metadata": {
        "id": "cHvQ2bxsNZ2C"
      }
    },
    {
      "cell_type": "code",
      "source": [
        "sns.countplot(x='diabetes', data=diabetes)"
      ],
      "metadata": {
        "colab": {
          "base_uri": "https://localhost:8080/",
          "height": 296
        },
        "id": "9UBbYne6xgY4",
        "outputId": "d63bc844-ae5e-4a0e-e1f6-2cd2f32d642d"
      },
      "execution_count": 90,
      "outputs": [
        {
          "output_type": "execute_result",
          "data": {
            "text/plain": [
              "<matplotlib.axes._subplots.AxesSubplot at 0x7f0bcd0278d0>"
            ]
          },
          "metadata": {},
          "execution_count": 90
        },
        {
          "output_type": "display_data",
          "data": {
            "text/plain": [
              "<Figure size 432x288 with 1 Axes>"
            ],
            "image/png": "[encoded data removed]"
          },
          "metadata": {
            "needs_background": "light"
          }
        }
      ]
    },
    {
      "cell_type": "markdown",
      "source": [
        "##2b) Does Number of Times being Pregnant Cause Diabetes?"
      ],
      "metadata": {
        "id": "JKZ1xcjgNeL7"
      }
    },
    {
      "cell_type": "code",
      "source": [
        "sns.regplot(x='pregnant', y='diabetes', y_jitter=0.03, data=diabetes, logistic = True, ci = None)\n",
        "\n",
        "plt.show()\n",
        "#pregnant: Number of times pregnant\n",
        "#seems like if you are pregnanre more than 12 times....higher chance \n",
        "# of being diabetic"
      ],
      "metadata": {
        "colab": {
          "base_uri": "https://localhost:8080/",
          "height": 279
        },
        "id": "llbDQyERwZB-",
        "outputId": "56204c12-a2f5-4ab0-f571-b0b5813c42d6"
      },
      "execution_count": 91,
      "outputs": [
        {
          "output_type": "display_data",
          "data": {
            "text/plain": [
              "<Figure size 432x288 with 1 Axes>"
            ],
            "image/png": "[encoded data removed]"
          },
          "metadata": {
            "needs_background": "light"
          }
        }
      ]
    },
    {
      "cell_type": "markdown",
      "source": [
        "##2c) Does Glucose Level cause Diabetes?"
      ],
      "metadata": {
        "id": "JD4XzO1iN6cc"
      }
    },
    {
      "cell_type": "code",
      "source": [
        "sns.regplot(x='glucose', y='diabetes', y_jitter=0.03, data=diabetes, logistic = True, ci = None)\n",
        "\n",
        "plt.show()\n",
        "\n",
        "#glucose: Plasma glucose concentration (glucose tolerance test)\n",
        "#the stronger the glucose level, the more likely for diabetes to occur"
      ],
      "metadata": {
        "colab": {
          "base_uri": "https://localhost:8080/",
          "height": 279
        },
        "id": "q1TRIoG__eJ8",
        "outputId": "19f81b55-d0cb-4b0a-af49-b8c4f7f55406"
      },
      "execution_count": 92,
      "outputs": [
        {
          "output_type": "display_data",
          "data": {
            "text/plain": [
              "<Figure size 432x288 with 1 Axes>"
            ],
            "image/png": "[encoded data removed]"
          },
          "metadata": {
            "needs_background": "light"
          }
        }
      ]
    },
    {
      "cell_type": "markdown",
      "source": [
        "##2d) Does Blood Pressure Cause Diabetes?"
      ],
      "metadata": {
        "id": "m2Ewo1w8OEor"
      }
    },
    {
      "cell_type": "code",
      "source": [
        "sns.regplot(x='pressure', y='diabetes', y_jitter=0.03, data=diabetes, logistic = True, ci = None)\n",
        "\n",
        "plt.show()\n",
        "\n",
        "#pressure: Diastolic blood pressure (mm Hg)\n",
        "#quite hard to gauge..."
      ],
      "metadata": {
        "colab": {
          "base_uri": "https://localhost:8080/",
          "height": 279
        },
        "id": "t_iCug_MBUIM",
        "outputId": "16f73525-1026-4281-f3c8-d245e71ce72e"
      },
      "execution_count": 93,
      "outputs": [
        {
          "output_type": "display_data",
          "data": {
            "text/plain": [
              "<Figure size 432x288 with 1 Axes>"
            ],
            "image/png": "[encoded data removed]"
          },
          "metadata": {
            "needs_background": "light"
          }
        }
      ]
    },
    {
      "cell_type": "markdown",
      "source": [
        "##2e) Does Triceps Skin Thickness Cause Diabetes?"
      ],
      "metadata": {
        "id": "kNN2NmDUQbB0"
      }
    },
    {
      "cell_type": "code",
      "source": [
        "sns.regplot(x='triceps', y='diabetes', y_jitter=0.03, data=diabetes, logistic = True, ci = None)\n",
        "\n",
        "plt.show()\n",
        "\n",
        "#triceps: Triceps skin fold thickness (mm)\n",
        "#quite hard to tell..."
      ],
      "metadata": {
        "colab": {
          "base_uri": "https://localhost:8080/",
          "height": 279
        },
        "id": "6ruEQTmtBfC0",
        "outputId": "82dc7ec8-96fe-48a5-9909-2aa050945086"
      },
      "execution_count": 94,
      "outputs": [
        {
          "output_type": "display_data",
          "data": {
            "text/plain": [
              "<Figure size 432x288 with 1 Axes>"
            ],
            "image/png": "[encoded data removed]"
          },
          "metadata": {
            "needs_background": "light"
          }
        }
      ]
    },
    {
      "cell_type": "markdown",
      "source": [
        "##2f) Does Insulin level cause Diabetes?"
      ],
      "metadata": {
        "id": "trkMm4ueRr-6"
      }
    },
    {
      "cell_type": "code",
      "source": [
        "sns.regplot(x='insulin', y='diabetes', y_jitter=0.03, data=diabetes, logistic = True, ci = None)\n",
        "\n",
        "plt.show()\n",
        "\n",
        "#insulin: 2-Hour serum insulin (mu U/ml)\n",
        "#seems like there maybe some outliers we need to remove (at the ends)\n",
        "#in order for us to have a better gauge...."
      ],
      "metadata": {
        "colab": {
          "base_uri": "https://localhost:8080/",
          "height": 279
        },
        "id": "PJnlY9dBBlJk",
        "outputId": "cb34b431-106f-4977-c829-0ce8ca321391"
      },
      "execution_count": 95,
      "outputs": [
        {
          "output_type": "display_data",
          "data": {
            "text/plain": [
              "<Figure size 432x288 with 1 Axes>"
            ],
            "image/png": "[encoded data removed]"
          },
          "metadata": {
            "needs_background": "light"
          }
        }
      ]
    },
    {
      "cell_type": "markdown",
      "source": [
        "##2g) Does BMI Cause Diabetes?"
      ],
      "metadata": {
        "id": "F3FHu3Q-R_T5"
      }
    },
    {
      "cell_type": "code",
      "source": [
        "sns.regplot(x='mass', y='diabetes', y_jitter=0.03, data=diabetes, logistic = True, ci = None)\n",
        "\n",
        "plt.show()\n",
        "\n",
        "#mass: Body mass index (weight in kg/(height in m)\\²)\n",
        "#the heavier the mass, the more likelihood for diabetes"
      ],
      "metadata": {
        "colab": {
          "base_uri": "https://localhost:8080/",
          "height": 279
        },
        "id": "WBU9ETvYBpTs",
        "outputId": "98d3e3ab-08f8-4a77-9c49-57c8d2d49aab"
      },
      "execution_count": 96,
      "outputs": [
        {
          "output_type": "display_data",
          "data": {
            "text/plain": [
              "<Figure size 432x288 with 1 Axes>"
            ],
            "image/png": "[encoded data removed]"
          },
          "metadata": {
            "needs_background": "light"
          }
        }
      ]
    },
    {
      "cell_type": "markdown",
      "source": [
        "##2h) Does Pedigree Cause Diabetes?"
      ],
      "metadata": {
        "id": "tn3x1qAGSHXE"
      }
    },
    {
      "cell_type": "code",
      "source": [
        "sns.regplot(x='pedigree', y='diabetes', y_jitter=0.03, data=diabetes, logistic = True, ci = None)\n",
        "\n",
        "plt.show()\n",
        "\n",
        "#pedigree: Diabetes pedigree function\n",
        "#not so sure what Pedigree is..."
      ],
      "metadata": {
        "colab": {
          "base_uri": "https://localhost:8080/",
          "height": 279
        },
        "id": "-5DU1VzwBwD0",
        "outputId": "a5a26ce9-cc1f-4d11-ef34-e3d0f6f02fdf"
      },
      "execution_count": 97,
      "outputs": [
        {
          "output_type": "display_data",
          "data": {
            "text/plain": [
              "<Figure size 432x288 with 1 Axes>"
            ],
            "image/png": "[encoded data removed]"
          },
          "metadata": {
            "needs_background": "light"
          }
        }
      ]
    },
    {
      "cell_type": "markdown",
      "source": [
        "##2i) Does Age Cause Diabetes?"
      ],
      "metadata": {
        "id": "bhaxQ97YSPTs"
      }
    },
    {
      "cell_type": "code",
      "source": [
        "sns.regplot(x='age', y='diabetes', y_jitter=0.03, data=diabetes, logistic = True, ci = None)\n",
        "\n",
        "plt.show()\n",
        "\n",
        "#age: Age (years)\n",
        "#seems like if we removed the outliers (at the ends) \n",
        "#we might be able to decipher the \"Threshold Value\" to be around past \n",
        "#25 years old to have a higher likelihood of diabetes?"
      ],
      "metadata": {
        "colab": {
          "base_uri": "https://localhost:8080/",
          "height": 279
        },
        "id": "j5LfXTFJBywF",
        "outputId": "9477d470-14bd-4132-8cba-51b84223078e"
      },
      "execution_count": 98,
      "outputs": [
        {
          "output_type": "display_data",
          "data": {
            "text/plain": [
              "<Figure size 432x288 with 1 Axes>"
            ],
            "image/png": "[encoded data removed]"
          },
          "metadata": {
            "needs_background": "light"
          }
        }
      ]
    },
    {
      "cell_type": "markdown",
      "source": [
        "# Conclusion:\n",
        "- For now, I've only managed to source out 'Glucose' and 'Mass' that can be predicted using the Logit curve.\n",
        "- However, I believe that if outliers were removed from most of the other columns / features, the Logistics curve would have fitted better.\n",
        "- And thereafter we can use Logistics Regression for Predicting those columns. "
      ],
      "metadata": {
        "id": "wAMsHU1nTUdd"
      }
    },
    {
      "cell_type": "markdown",
      "source": [
        "\n",
        "\n",
        "---\n",
        "\n"
      ],
      "metadata": {
        "id": "9dltgYJQFXh5"
      }
    },
    {
      "cell_type": "markdown",
      "source": [
        "##Step 3: Extract 'Glucose' and 'Mass' out from the Dataset"
      ],
      "metadata": {
        "id": "bzsRocNXVf4B"
      }
    },
    {
      "cell_type": "code",
      "source": [
        "diabetes"
      ],
      "metadata": {
        "colab": {
          "base_uri": "https://localhost:8080/",
          "height": 424
        },
        "id": "Jdga2_ZiD4Sb",
        "outputId": "a89efce9-f324-412e-b63b-101ed2e9e802"
      },
      "execution_count": 99,
      "outputs": [
        {
          "output_type": "execute_result",
          "data": {
            "text/plain": [
              "     pregnant  glucose  pressure  triceps  insulin  mass  pedigree  age  \\\n",
              "0           1       89        66       23       94  28.1     0.167   21   \n",
              "1           0      137        40       35      168  43.1     2.288   33   \n",
              "2           3       78        50       32       88  31.0     0.248   26   \n",
              "3           2      197        70       45      543  30.5     0.158   53   \n",
              "4           1      189        60       23      846  30.1     0.398   59   \n",
              "..        ...      ...       ...      ...      ...   ...       ...  ...   \n",
              "387         0      181        88       44      510  43.3     0.222   26   \n",
              "388         1      128        88       39      110  36.5     1.057   37   \n",
              "389         2       88        58       26       16  28.4     0.766   22   \n",
              "390        10      101        76       48      180  32.9     0.171   63   \n",
              "391         5      121        72       23      112  26.2     0.245   30   \n",
              "\n",
              "     diabetes  \n",
              "0           0  \n",
              "1           1  \n",
              "2           1  \n",
              "3           1  \n",
              "4           1  \n",
              "..        ...  \n",
              "387         1  \n",
              "388         1  \n",
              "389         0  \n",
              "390         0  \n",
              "391         0  \n",
              "\n",
              "[392 rows x 9 columns]"
            ],
            "text/html": [
              "\n",
              "  <div id=\"df-7a5a01fd-ed7d-45e6-ac58-9bb33210edcd\">\n",
              "    <div class=\"colab-df-container\">\n",
              "      <div>\n",
              "<style scoped>\n",
              "    .dataframe tbody tr th:only-of-type {\n",
              "        vertical-align: middle;\n",
              "    }\n",
              "\n",
              "    .dataframe tbody tr th {\n",
              "        vertical-align: top;\n",
              "    }\n",
              "\n",
              "    .dataframe thead th {\n",
              "        text-align: right;\n",
              "    }\n",
              "</style>\n",
              "<table border=\"1\" class=\"dataframe\">\n",
              "  <thead>\n",
              "    <tr style=\"text-align: right;\">\n",
              "      <th></th>\n",
              "      <th>pregnant</th>\n",
              "      <th>glucose</th>\n",
              "      <th>pressure</th>\n",
              "      <th>triceps</th>\n",
              "      <th>insulin</th>\n",
              "      <th>mass</th>\n",
              "      <th>pedigree</th>\n",
              "      <th>age</th>\n",
              "      <th>diabetes</th>\n",
              "    </tr>\n",
              "  </thead>\n",
              "  <tbody>\n",
              "    <tr>\n",
              "      <th>0</th>\n",
              "      <td>1</td>\n",
              "      <td>89</td>\n",
              "      <td>66</td>\n",
              "      <td>23</td>\n",
              "      <td>94</td>\n",
              "      <td>28.1</td>\n",
              "      <td>0.167</td>\n",
              "      <td>21</td>\n",
              "      <td>0</td>\n",
              "    </tr>\n",
              "    <tr>\n",
              "      <th>1</th>\n",
              "      <td>0</td>\n",
              "      <td>137</td>\n",
              "      <td>40</td>\n",
              "      <td>35</td>\n",
              "      <td>168</td>\n",
              "      <td>43.1</td>\n",
              "      <td>2.288</td>\n",
              "      <td>33</td>\n",
              "      <td>1</td>\n",
              "    </tr>\n",
              "    <tr>\n",
              "      <th>2</th>\n",
              "      <td>3</td>\n",
              "      <td>78</td>\n",
              "      <td>50</td>\n",
              "      <td>32</td>\n",
              "      <td>88</td>\n",
              "      <td>31.0</td>\n",
              "      <td>0.248</td>\n",
              "      <td>26</td>\n",
              "      <td>1</td>\n",
              "    </tr>\n",
              "    <tr>\n",
              "      <th>3</th>\n",
              "      <td>2</td>\n",
              "      <td>197</td>\n",
              "      <td>70</td>\n",
              "      <td>45</td>\n",
              "      <td>543</td>\n",
              "      <td>30.5</td>\n",
              "      <td>0.158</td>\n",
              "      <td>53</td>\n",
              "      <td>1</td>\n",
              "    </tr>\n",
              "    <tr>\n",
              "      <th>4</th>\n",
              "      <td>1</td>\n",
              "      <td>189</td>\n",
              "      <td>60</td>\n",
              "      <td>23</td>\n",
              "      <td>846</td>\n",
              "      <td>30.1</td>\n",
              "      <td>0.398</td>\n",
              "      <td>59</td>\n",
              "      <td>1</td>\n",
              "    </tr>\n",
              "    <tr>\n",
              "      <th>...</th>\n",
              "      <td>...</td>\n",
              "      <td>...</td>\n",
              "      <td>...</td>\n",
              "      <td>...</td>\n",
              "      <td>...</td>\n",
              "      <td>...</td>\n",
              "      <td>...</td>\n",
              "      <td>...</td>\n",
              "      <td>...</td>\n",
              "    </tr>\n",
              "    <tr>\n",
              "      <th>387</th>\n",
              "      <td>0</td>\n",
              "      <td>181</td>\n",
              "      <td>88</td>\n",
              "      <td>44</td>\n",
              "      <td>510</td>\n",
              "      <td>43.3</td>\n",
              "      <td>0.222</td>\n",
              "      <td>26</td>\n",
              "      <td>1</td>\n",
              "    </tr>\n",
              "    <tr>\n",
              "      <th>388</th>\n",
              "      <td>1</td>\n",
              "      <td>128</td>\n",
              "      <td>88</td>\n",
              "      <td>39</td>\n",
              "      <td>110</td>\n",
              "      <td>36.5</td>\n",
              "      <td>1.057</td>\n",
              "      <td>37</td>\n",
              "      <td>1</td>\n",
              "    </tr>\n",
              "    <tr>\n",
              "      <th>389</th>\n",
              "      <td>2</td>\n",
              "      <td>88</td>\n",
              "      <td>58</td>\n",
              "      <td>26</td>\n",
              "      <td>16</td>\n",
              "      <td>28.4</td>\n",
              "      <td>0.766</td>\n",
              "      <td>22</td>\n",
              "      <td>0</td>\n",
              "    </tr>\n",
              "    <tr>\n",
              "      <th>390</th>\n",
              "      <td>10</td>\n",
              "      <td>101</td>\n",
              "      <td>76</td>\n",
              "      <td>48</td>\n",
              "      <td>180</td>\n",
              "      <td>32.9</td>\n",
              "      <td>0.171</td>\n",
              "      <td>63</td>\n",
              "      <td>0</td>\n",
              "    </tr>\n",
              "    <tr>\n",
              "      <th>391</th>\n",
              "      <td>5</td>\n",
              "      <td>121</td>\n",
              "      <td>72</td>\n",
              "      <td>23</td>\n",
              "      <td>112</td>\n",
              "      <td>26.2</td>\n",
              "      <td>0.245</td>\n",
              "      <td>30</td>\n",
              "      <td>0</td>\n",
              "    </tr>\n",
              "  </tbody>\n",
              "</table>\n",
              "<p>392 rows × 9 columns</p>\n",
              "</div>\n",
              "      <button class=\"colab-df-convert\" onclick=\"convertToInteractive('df-7a5a01fd-ed7d-45e6-ac58-9bb33210edcd')\"\n",
              "              title=\"Convert this dataframe to an interactive table.\"\n",
              "              style=\"display:none;\">\n",
              "        \n",
              "  <svg xmlns=\"http://www.w3.org/2000/svg\" height=\"24px\"viewBox=\"0 0 24 24\"\n",
              "       width=\"24px\">\n",
              "    <path d=\"M0 0h24v24H0V0z\" fill=\"none\"/>\n",
              "    <path d=\"M18.56 5.44l.94 2.06.94-2.06 2.06-.94-2.06-.94-.94-2.06-.94 2.06-2.06.94zm-11 1L8.5 8.5l.94-2.06 2.06-.94-2.06-.94L8.5 2.5l-.94 2.06-2.06.94zm10 10l.94 2.06.94-2.06 2.06-.94-2.06-.94-.94-2.06-.94 2.06-2.06.94z\"/><path d=\"M17.41 7.96l-1.37-1.37c-.4-.4-.92-.59-1.43-.59-.52 0-1.04.2-1.43.59L10.3 9.45l-7.72 7.72c-.78.78-.78 2.05 0 2.83L4 21.41c.39.39.9.59 1.41.59.51 0 1.02-.2 1.41-.59l7.78-7.78 2.81-2.81c.8-.78.8-2.07 0-2.86zM5.41 20L4 18.59l7.72-7.72 1.47 1.35L5.41 20z\"/>\n",
              "  </svg>\n",
              "      </button>\n",
              "      \n",
              "  <style>\n",
              "    .colab-df-container {\n",
              "      display:flex;\n",
              "      flex-wrap:wrap;\n",
              "      gap: 12px;\n",
              "    }\n",
              "\n",
              "    .colab-df-convert {\n",
              "      background-color: #E8F0FE;\n",
              "      border: none;\n",
              "      border-radius: 50%;\n",
              "      cursor: pointer;\n",
              "      display: none;\n",
              "      fill: #1967D2;\n",
              "      height: 32px;\n",
              "      padding: 0 0 0 0;\n",
              "      width: 32px;\n",
              "    }\n",
              "\n",
              "    .colab-df-convert:hover {\n",
              "      background-color: #E2EBFA;\n",
              "      box-shadow: 0px 1px 2px rgba(60, 64, 67, 0.3), 0px 1px 3px 1px rgba(60, 64, 67, 0.15);\n",
              "      fill: #174EA6;\n",
              "    }\n",
              "\n",
              "    [theme=dark] .colab-df-convert {\n",
              "      background-color: #3B4455;\n",
              "      fill: #D2E3FC;\n",
              "    }\n",
              "\n",
              "    [theme=dark] .colab-df-convert:hover {\n",
              "      background-color: #434B5C;\n",
              "      box-shadow: 0px 1px 3px 1px rgba(0, 0, 0, 0.15);\n",
              "      filter: drop-shadow(0px 1px 2px rgba(0, 0, 0, 0.3));\n",
              "      fill: #FFFFFF;\n",
              "    }\n",
              "  </style>\n",
              "\n",
              "      <script>\n",
              "        const buttonEl =\n",
              "          document.querySelector('#df-7a5a01fd-ed7d-45e6-ac58-9bb33210edcd button.colab-df-convert');\n",
              "        buttonEl.style.display =\n",
              "          google.colab.kernel.accessAllowed ? 'block' : 'none';\n",
              "\n",
              "        async function convertToInteractive(key) {\n",
              "          const element = document.querySelector('#df-7a5a01fd-ed7d-45e6-ac58-9bb33210edcd');\n",
              "          const dataTable =\n",
              "            await google.colab.kernel.invokeFunction('convertToInteractive',\n",
              "                                                     [key], {});\n",
              "          if (!dataTable) return;\n",
              "\n",
              "          const docLinkHtml = 'Like what you see? Visit the ' +\n",
              "            '<a target=\"_blank\" href=https://colab.research.google.com/notebooks/data_table.ipynb>data table notebook</a>'\n",
              "            + ' to learn more about interactive tables.';\n",
              "          element.innerHTML = '';\n",
              "          dataTable['output_type'] = 'display_data';\n",
              "          await google.colab.output.renderOutput(dataTable, element);\n",
              "          const docLink = document.createElement('div');\n",
              "          docLink.innerHTML = docLinkHtml;\n",
              "          element.appendChild(docLink);\n",
              "        }\n",
              "      </script>\n",
              "    </div>\n",
              "  </div>\n",
              "  "
            ]
          },
          "metadata": {},
          "execution_count": 99
        }
      ]
    },
    {
      "cell_type": "code",
      "source": [
        "x = diabetes.iloc[:, [1,5]].values\n",
        "y = diabetes.iloc[:,8].values\n",
        "\n",
        "#we take only Glucose and Mass into accouunt\n",
        "#for predicting Diabetic or not"
      ],
      "metadata": {
        "id": "z1ZBjAixDdHz"
      },
      "execution_count": 100,
      "outputs": []
    },
    {
      "cell_type": "markdown",
      "source": [
        "\n",
        "\n",
        "---\n",
        "\n"
      ],
      "metadata": {
        "id": "RPnQ_butVv5r"
      }
    },
    {
      "cell_type": "markdown",
      "source": [
        "##Step 4: Train Test Split"
      ],
      "metadata": {
        "id": "AQDtgyd4Vxeq"
      }
    },
    {
      "cell_type": "code",
      "source": [
        "from sklearn.model_selection import train_test_split  \n",
        "x_train, x_test, y_train, y_test= train_test_split(x, y, test_size= 0.2, random_state=0)\n",
        "\n",
        "#20% test size, 80% training size"
      ],
      "metadata": {
        "id": "tmlbu6BHEk6c"
      },
      "execution_count": 101,
      "outputs": []
    },
    {
      "cell_type": "markdown",
      "source": [
        "\n",
        "\n",
        "---\n",
        "\n"
      ],
      "metadata": {
        "id": "xUqr1pu1XT-d"
      }
    },
    {
      "cell_type": "markdown",
      "source": [
        "#Step 5: Feature Scaling"
      ],
      "metadata": {
        "id": "hM2outYGXVJ-"
      }
    },
    {
      "cell_type": "code",
      "source": [
        "from sklearn.preprocessing import StandardScaler    \n",
        "\n",
        "st_x= StandardScaler()    \n",
        "x_train= st_x.fit_transform(x_train)    \n",
        "x_test= st_x.transform(x_test)"
      ],
      "metadata": {
        "id": "boWGAz92Ezdu"
      },
      "execution_count": 102,
      "outputs": []
    },
    {
      "cell_type": "markdown",
      "source": [
        "\n",
        "\n",
        "---\n",
        "\n"
      ],
      "metadata": {
        "id": "AhNab6zbXZ92"
      }
    },
    {
      "cell_type": "markdown",
      "source": [
        "#Step 6: Import Logistic Regression and Train the Model"
      ],
      "metadata": {
        "id": "YuzSIgh2csWZ"
      }
    },
    {
      "cell_type": "markdown",
      "source": [
        "##6a) Importing Logistic Regression Model"
      ],
      "metadata": {
        "id": "LVPT0dMnd1Oy"
      }
    },
    {
      "cell_type": "code",
      "source": [
        "from sklearn.linear_model import LogisticRegression  \n",
        "\n",
        "model = LogisticRegression()  "
      ],
      "metadata": {
        "id": "7wW5-mP-E45u"
      },
      "execution_count": 103,
      "outputs": []
    },
    {
      "cell_type": "markdown",
      "source": [
        "##6b) Training the Model"
      ],
      "metadata": {
        "id": "4ov594JLd5JZ"
      }
    },
    {
      "cell_type": "code",
      "source": [
        "model.fit(x_train, y_train)\n",
        "\n",
        "#Training the Model"
      ],
      "metadata": {
        "colab": {
          "base_uri": "https://localhost:8080/"
        },
        "id": "Y8Yx5rDSdKOS",
        "outputId": "4061dfaa-e96c-4495-81e5-7156278564f0"
      },
      "execution_count": 104,
      "outputs": [
        {
          "output_type": "execute_result",
          "data": {
            "text/plain": [
              "LogisticRegression()"
            ]
          },
          "metadata": {},
          "execution_count": 104
        }
      ]
    },
    {
      "cell_type": "markdown",
      "source": [
        "##6c) Using the Model to Predict the x_test"
      ],
      "metadata": {
        "id": "MHBpB1-2d7LZ"
      }
    },
    {
      "cell_type": "code",
      "source": [
        "#Predicting the test set result  \n",
        "y_pred= model.predict(x_test)"
      ],
      "metadata": {
        "id": "65CUl3cCFMSz"
      },
      "execution_count": 105,
      "outputs": []
    },
    {
      "cell_type": "code",
      "source": [
        "x_test.shape\n",
        "\n",
        "#79 rows 2 columns"
      ],
      "metadata": {
        "colab": {
          "base_uri": "https://localhost:8080/"
        },
        "id": "N9solu9tf6tM",
        "outputId": "36604b5e-7b17-401b-ca2b-d8f527d75687"
      },
      "execution_count": 106,
      "outputs": [
        {
          "output_type": "execute_result",
          "data": {
            "text/plain": [
              "(79, 2)"
            ]
          },
          "metadata": {},
          "execution_count": 106
        }
      ]
    },
    {
      "cell_type": "code",
      "source": [
        "y_pred"
      ],
      "metadata": {
        "colab": {
          "base_uri": "https://localhost:8080/"
        },
        "id": "HQUkGRivVMq5",
        "outputId": "ae4c4b07-6d34-4066-c493-81cced7faf34"
      },
      "execution_count": 107,
      "outputs": [
        {
          "output_type": "execute_result",
          "data": {
            "text/plain": [
              "array([0, 1, 0, 0, 0, 1, 0, 0, 1, 0, 0, 0, 0, 0, 0, 0, 0, 0, 0, 0, 0, 0,\n",
              "       0, 0, 0, 0, 0, 0, 0, 0, 0, 0, 0, 0, 0, 1, 0, 0, 0, 0, 1, 0, 0, 0,\n",
              "       0, 0, 0, 1, 0, 1, 0, 1, 0, 0, 1, 0, 0, 0, 1, 0, 0, 0, 0, 1, 0, 0,\n",
              "       0, 0, 0, 0, 0, 0, 0, 0, 0, 0, 1, 0, 0])"
            ]
          },
          "metadata": {},
          "execution_count": 107
        }
      ]
    },
    {
      "cell_type": "markdown",
      "source": [
        "\n",
        "\n",
        "---\n",
        "\n"
      ],
      "metadata": {
        "id": "XdyrwrTNdlrh"
      }
    },
    {
      "cell_type": "markdown",
      "source": [
        "#Step 7: Metrics"
      ],
      "metadata": {
        "id": "ORwiBxneeTeT"
      }
    },
    {
      "cell_type": "markdown",
      "source": [
        "##7a) Confusion Matrix"
      ],
      "metadata": {
        "id": "WHOkFRNYe-8J"
      }
    },
    {
      "cell_type": "code",
      "source": [
        "#Creating the Confusion matrix  \n",
        "from sklearn.metrics import confusion_matrix  \n",
        "cm= confusion_matrix(y_test, y_pred)\n",
        "\n",
        "print(cm)"
      ],
      "metadata": {
        "colab": {
          "base_uri": "https://localhost:8080/"
        },
        "id": "yoF2K8pyFM7k",
        "outputId": "df257691-c99b-441c-955d-4983e02d719a"
      },
      "execution_count": 108,
      "outputs": [
        {
          "output_type": "stream",
          "name": "stdout",
          "text": [
            "[[52  2]\n",
            " [15 10]]\n"
          ]
        }
      ]
    },
    {
      "cell_type": "code",
      "source": [
        "# plotting the confusion matrix\n",
        "plt.figure(figsize=(12,6))\n",
        "plt.title(\"Confusion Matrix\")\n",
        "sns.heatmap(cm, annot=True, fmt='d', cmap='Blues')\n",
        "plt.ylabel(\"Actual Values\")\n",
        "plt.xlabel(\"Predicted Values\")\n",
        "plt.savefig('confusion_matrix.png')\n",
        "\n",
        "# 2 Type 1 Errors\n",
        "# 15 Type 2 Errors"
      ],
      "metadata": {
        "colab": {
          "base_uri": "https://localhost:8080/",
          "height": 404
        },
        "id": "0jtR660zGWGE",
        "outputId": "b525fd44-497f-4bd1-bef9-e494ccd437b8"
      },
      "execution_count": 109,
      "outputs": [
        {
          "output_type": "display_data",
          "data": {
            "text/plain": [
              "<Figure size 864x432 with 2 Axes>"
            ],
            "image/png": "[encoded data removed]"
          },
          "metadata": {
            "needs_background": "light"
          }
        }
      ]
    },
    {
      "cell_type": "markdown",
      "source": [
        "##7b) Accuracy Score"
      ],
      "metadata": {
        "id": "BsLKIKYsfIY4"
      }
    },
    {
      "cell_type": "code",
      "source": [
        "from sklearn.metrics import accuracy_score\n",
        "\n",
        "accuracy_score(y_test,y_pred)\n",
        "\n",
        "#total = 79 rows of data predicted\n",
        "#17 errors / total 79 trials = 0.215\n",
        "#1 - 0.215 = 78% accuracy"
      ],
      "metadata": {
        "colab": {
          "base_uri": "https://localhost:8080/"
        },
        "id": "5A1EkAMOGmpT",
        "outputId": "6c22b0af-5789-4923-f8b9-ab9fd3dd64cc"
      },
      "execution_count": 110,
      "outputs": [
        {
          "output_type": "execute_result",
          "data": {
            "text/plain": [
              "0.7848101265822784"
            ]
          },
          "metadata": {},
          "execution_count": 110
        }
      ]
    },
    {
      "cell_type": "markdown",
      "source": [
        "\n",
        "\n",
        "---\n",
        "\n"
      ],
      "metadata": {
        "id": "ZM9sLbLLhJEo"
      }
    },
    {
      "cell_type": "markdown",
      "source": [
        "#Step 8: Visualizing the Test Set Result "
      ],
      "metadata": {
        "id": "e7gFeF0xi2FQ"
      }
    },
    {
      "cell_type": "code",
      "source": [
        "import numpy as np\n",
        "\n",
        "from matplotlib.colors import ListedColormap  \n",
        "x_set, y_set = x_test, y_test  \n",
        "x1, x2 = nm.meshgrid(nm.arange(start = x_set[:, 0].min() - 1, stop = x_set[:, 0].max() + 1, step  =0.01),  \n",
        "nm.arange(start = x_set[:, 1].min() - 1, stop = x_set[:, 1].max() + 1, step = 0.01))  \n",
        "plt.contourf(x1, x2, classifier.predict(nm.array([x1.ravel(), x2.ravel()]).T).reshape(x1.shape),  \n",
        "alpha = 0.75, cmap = ListedColormap(('purple','green' )))  \n",
        "plt.xlim(x1.min(), x1.max())  \n",
        "plt.ylim(x2.min(), x2.max())  \n",
        "for i, j in enumerate(nm.unique(y_set)):  \n",
        "    plt.scatter(x_set[y_set == j, 0], x_set[y_set == j, 1],  \n",
        "        c = ListedColormap(('purple', 'green'))(i), label = j)  \n",
        "    \n",
        "plt.title('Logistic Regression')  \n",
        "plt.xlabel('Glucose')  \n",
        "plt.ylabel('Mass')  \n",
        "plt.legend()  \n",
        "plt.show()"
      ],
      "metadata": {
        "colab": {
          "base_uri": "https://localhost:8080/",
          "height": 350
        },
        "id": "nHaIILGwFSOL",
        "outputId": "47d086ee-4201-4f67-f8ce-ca4548c116e2"
      },
      "execution_count": 111,
      "outputs": [
        {
          "output_type": "stream",
          "name": "stderr",
          "text": [
            "WARNING:matplotlib.axes._axes:*c* argument looks like a single numeric RGB or RGBA sequence, which should be avoided as value-mapping will have precedence in case its length matches with *x* & *y*.  Please use the *color* keyword-argument or provide a 2-D array with a single row if you intend to specify the same RGB or RGBA value for all points.\n",
            "WARNING:matplotlib.axes._axes:*c* argument looks like a single numeric RGB or RGBA sequence, which should be avoided as value-mapping will have precedence in case its length matches with *x* & *y*.  Please use the *color* keyword-argument or provide a 2-D array with a single row if you intend to specify the same RGB or RGBA value for all points.\n"
          ]
        },
        {
          "output_type": "display_data",
          "data": {
            "text/plain": [
              "<Figure size 432x288 with 1 Axes>"
            ],
            "image/png": "[encoded data removed]"
          },
          "metadata": {
            "needs_background": "light"
          }
        }
      ]
    },
    {
      "cell_type": "code",
      "source": [
        "#the picture above is actually a 3D graph but looking from the top\n",
        "#(planar view)\n",
        "#the Z axis (or 3rd axis) represents 'Diabetic or not' but you can't\n",
        "#see it from the chart. \n",
        "\n",
        "#we see that Mass doesn't impact Diabetics so much\n",
        "#Whether you are High or Low body Mass, it doesn't really determine if you \n",
        "#will be diabetic\n",
        "\n",
        "#Rather, the core focus is the Glucose level.\n",
        "#The higher the Glucose leve, the more certainty for Diabetes."
      ],
      "metadata": {
        "id": "hMPjsc7khQYc"
      },
      "execution_count": 112,
      "outputs": []
    },
    {
      "cell_type": "markdown",
      "source": [
        "\n",
        "\n",
        "---\n",
        "\n"
      ],
      "metadata": {
        "id": "Cb7Ej6DJgWTh"
      }
    },
    {
      "cell_type": "markdown",
      "source": [
        "#THE END\n",
        "\n",
        "\n",
        "---\n",
        "\n"
      ],
      "metadata": {
        "id": "uatV1jfHgWLs"
      }
    }
  ]
}