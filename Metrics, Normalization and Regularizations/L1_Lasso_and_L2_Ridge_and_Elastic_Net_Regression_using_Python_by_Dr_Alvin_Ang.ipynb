{
  "nbformat": 4,
  "nbformat_minor": 0,
  "metadata": {
    "colab": {
      "provenance": [],
      "collapsed_sections": [],
      "toc_visible": true
    },
    "kernelspec": {
      "name": "python3",
      "display_name": "Python 3"
    },
    "language_info": {
      "name": "python"
    }
  },
  "cells": [
    {
      "cell_type": "markdown",
      "source": [
        "#L1 Lasso and L2 Ridge Regression using Python by Dr Alvin Ang"
      ],
      "metadata": {
        "id": "jW0Qmrvwobdd"
      }
    },
    {
      "cell_type": "markdown",
      "source": [
        "https://towardsdatascience.com/lasso-and-ridge-regression-an-intuitive-comparison-3ee415487d18"
      ],
      "metadata": {
        "id": "wrCawARhof2N"
      }
    },
    {
      "cell_type": "markdown",
      "source": [
        "\n",
        "\n",
        "---\n",
        "\n"
      ],
      "metadata": {
        "id": "zx4SXzZ6is4z"
      }
    },
    {
      "cell_type": "markdown",
      "source": [
        "#Step 1: Import Dataset"
      ],
      "metadata": {
        "id": "vgA7I-xYoh1i"
      }
    },
    {
      "cell_type": "markdown",
      "source": [
        "##1a) Import Libraries"
      ],
      "metadata": {
        "id": "e4AxkzptotDz"
      }
    },
    {
      "cell_type": "code",
      "execution_count": 71,
      "metadata": {
        "id": "3WheRHtegN-W"
      },
      "outputs": [],
      "source": [
        "import pandas as pd\n",
        "from sklearn.model_selection import train_test_split\n",
        "from sklearn.linear_model import LinearRegression, Lasso, Ridge\n",
        "from sklearn.metrics import mean_squared_error"
      ]
    },
    {
      "cell_type": "markdown",
      "source": [
        "##1b) Import Dataset"
      ],
      "metadata": {
        "id": "Vq5BnzFQolxK"
      }
    },
    {
      "cell_type": "code",
      "source": [
        "df = pd.read_csv('https://www.alvinang.sg/s/boston_housing_data.csv').head(100)\n",
        "\n",
        "#.head(100) only keeps the first 100 rows\n",
        "#and not FULL dataset\n",
        "\n",
        "print(df)"
      ],
      "metadata": {
        "colab": {
          "base_uri": "https://localhost:8080/"
        },
        "id": "PYSOsb01mdOj",
        "outputId": "55cb6004-15c9-40f1-f3d2-c73e0a403e59"
      },
      "execution_count": 72,
      "outputs": [
        {
          "output_type": "stream",
          "name": "stdout",
          "text": [
            "       CRIM    ZN  INDUS  CHAS    NOX     RM   AGE     DIS  RAD    TAX  \\\n",
            "0   0.00632  18.0   2.31     0  0.538  6.575  65.2  4.0900    1  296.0   \n",
            "1   0.02731   0.0   7.07     0  0.469  6.421  78.9  4.9671    2  242.0   \n",
            "2   0.02729   0.0   7.07     0  0.469  7.185  61.1  4.9671    2  242.0   \n",
            "3   0.03237   0.0   2.18     0  0.458  6.998  45.8  6.0622    3  222.0   \n",
            "4   0.06905   0.0   2.18     0  0.458  7.147  54.2  6.0622    3  222.0   \n",
            "..      ...   ...    ...   ...    ...    ...   ...     ...  ...    ...   \n",
            "95  0.12204   0.0   2.89     0  0.445  6.625  57.8  3.4952    2  276.0   \n",
            "96  0.11504   0.0   2.89     0  0.445  6.163  69.6  3.4952    2  276.0   \n",
            "97  0.12083   0.0   2.89     0  0.445  8.069  76.0  3.4952    2  276.0   \n",
            "98  0.08187   0.0   2.89     0  0.445  7.820  36.9  3.4952    2  276.0   \n",
            "99  0.06860   0.0   2.89     0  0.445  7.416  62.5  3.4952    2  276.0   \n",
            "\n",
            "    PTRATIO       B  LSTAT  MEDV  \n",
            "0      15.3  396.90   4.98  24.0  \n",
            "1      17.8  396.90   9.14  21.6  \n",
            "2      17.8  392.83   4.03  34.7  \n",
            "3      18.7  394.63   2.94  33.4  \n",
            "4      18.7  396.90   5.33  36.2  \n",
            "..      ...     ...    ...   ...  \n",
            "95     18.0  357.98   6.65  28.4  \n",
            "96     18.0  391.83  11.34  21.4  \n",
            "97     18.0  396.90   4.21  38.7  \n",
            "98     18.0  393.53   3.57  43.8  \n",
            "99     18.0  396.90   6.19  33.2  \n",
            "\n",
            "[100 rows x 14 columns]\n"
          ]
        }
      ]
    },
    {
      "cell_type": "markdown",
      "source": [
        "\n",
        "\n",
        "---\n",
        "\n"
      ],
      "metadata": {
        "id": "p5Sr2RLhozPk"
      }
    },
    {
      "cell_type": "markdown",
      "source": [
        "#Step 2: Train Test Split"
      ],
      "metadata": {
        "id": "BhbeHdYxo2y5"
      }
    },
    {
      "cell_type": "code",
      "source": [
        "target= [\"MEDV\"]\n",
        "features = [\"CRIM\", \"ZN\", \"INDUS\", \"CHAS\", \"NOX\", \"RM\", \"AGE\",\"DIS\",\"RAD\",\"TAX\", \"PTRATIO\",\"B\",\"LSTAT\"]\n",
        "\n",
        "y = df[target]\n",
        "X = df[features]\n",
        "\n",
        "X_train, X_test, y_train, y_test = train_test_split(X, y, test_size = 0.2, random_state=5)\n",
        "print(X_train.shape)\n",
        "print(y_train.shape)\n",
        "\n",
        "print(X_test.shape)\n",
        "print(y_test.shape)\n",
        "\n",
        "#80% for training - 20% for testing"
      ],
      "metadata": {
        "colab": {
          "base_uri": "https://localhost:8080/"
        },
        "id": "SRGhuUHbm0Qz",
        "outputId": "2b694eb6-fcb1-4660-86d4-81aa44f0b43b"
      },
      "execution_count": 73,
      "outputs": [
        {
          "output_type": "stream",
          "name": "stdout",
          "text": [
            "(80, 13)\n",
            "(80, 1)\n",
            "(20, 13)\n",
            "(20, 1)\n"
          ]
        }
      ]
    },
    {
      "cell_type": "markdown",
      "source": [
        "\n",
        "\n",
        "---\n",
        "\n"
      ],
      "metadata": {
        "id": "jqKoWV0_pRsq"
      }
    },
    {
      "cell_type": "markdown",
      "source": [
        "#Step 3: Linear Regression  "
      ],
      "metadata": {
        "id": "D4hWfLRTpMIj"
      }
    },
    {
      "cell_type": "markdown",
      "source": [
        "##3a) Importing LR and Training the LR Model"
      ],
      "metadata": {
        "id": "V4d0Dc4Qp31U"
      }
    },
    {
      "cell_type": "code",
      "source": [
        "linear_reg = LinearRegression()\n",
        "linear_reg.fit(X_train, y_train)"
      ],
      "metadata": {
        "colab": {
          "base_uri": "https://localhost:8080/"
        },
        "id": "O6gVEQ1qnGlR",
        "outputId": "71e91651-4f45-4024-dfc8-a051fde15e64"
      },
      "execution_count": 74,
      "outputs": [
        {
          "output_type": "execute_result",
          "data": {
            "text/plain": [
              "LinearRegression()"
            ]
          },
          "metadata": {},
          "execution_count": 74
        }
      ]
    },
    {
      "cell_type": "markdown",
      "source": [
        "##3b) Predicting the Test set using LR Model"
      ],
      "metadata": {
        "id": "ndpEA7OGqHwT"
      }
    },
    {
      "cell_type": "code",
      "source": [
        "y_pred = linear_reg.predict(X_test)"
      ],
      "metadata": {
        "id": "xOcsu-9LpzC6"
      },
      "execution_count": 75,
      "outputs": []
    },
    {
      "cell_type": "markdown",
      "source": [
        "##3c) Getting LR MSE"
      ],
      "metadata": {
        "id": "SodrVmCnqZYj"
      }
    },
    {
      "cell_type": "code",
      "source": [
        "mse_linear = mean_squared_error(y_pred, y_test)\n",
        "\n",
        "print(mse_linear)"
      ],
      "metadata": {
        "colab": {
          "base_uri": "https://localhost:8080/"
        },
        "id": "CA-sCfT6p1Dr",
        "outputId": "5affc9d8-ccce-49e9-b003-95dc9aad58d5"
      },
      "execution_count": 76,
      "outputs": [
        {
          "output_type": "stream",
          "name": "stdout",
          "text": [
            "6.36573414905193\n"
          ]
        }
      ]
    },
    {
      "cell_type": "markdown",
      "source": [
        "##3d) Getting the LR Coefficients"
      ],
      "metadata": {
        "id": "A2lhnR-sqiSK"
      }
    },
    {
      "cell_type": "code",
      "source": [
        "linear_reg.intercept_"
      ],
      "metadata": {
        "colab": {
          "base_uri": "https://localhost:8080/"
        },
        "id": "xZusn_4_sAGV",
        "outputId": "cf7f805e-414f-4131-e10d-e71332e675e5"
      },
      "execution_count": 77,
      "outputs": [
        {
          "output_type": "execute_result",
          "data": {
            "text/plain": [
              "array([-47.53106736])"
            ]
          },
          "metadata": {},
          "execution_count": 77
        }
      ]
    },
    {
      "cell_type": "code",
      "source": [
        "linear_reg.coef_\n",
        "\n",
        "#MEDV = -47 + 4.72*\"CRIM\" - 0.005*\"ZN\" - 0.12*\"INDUS\" + 0.00...*\"CHAS\" + ..."
      ],
      "metadata": {
        "colab": {
          "base_uri": "https://localhost:8080/"
        },
        "id": "WHh8eUwNnK_R",
        "outputId": "d6e6afab-6b95-4aa7-b487-6889c3a71edc"
      },
      "execution_count": 78,
      "outputs": [
        {
          "output_type": "execute_result",
          "data": {
            "text/plain": [
              "array([[-4.72182649e+00, -5.72291982e-03, -1.22443616e-01,\n",
              "         1.94280017e-12,  3.33076169e+01,  9.37669521e+00,\n",
              "        -9.41315572e-02,  1.73184141e-01, -1.98303418e-01,\n",
              "        -5.27579383e-03,  2.16094990e-01, -1.84195305e-03,\n",
              "         1.30488826e-01]])"
            ]
          },
          "metadata": {},
          "execution_count": 78
        }
      ]
    },
    {
      "cell_type": "markdown",
      "source": [
        "\n",
        "\n",
        "---\n",
        "\n"
      ],
      "metadata": {
        "id": "9q6es2_4nOE2"
      }
    },
    {
      "cell_type": "markdown",
      "source": [
        "#Step 4: L1 - Lasso Regression"
      ],
      "metadata": {
        "id": "EpGsPUGPs8_N"
      }
    },
    {
      "cell_type": "markdown",
      "source": [
        "##4a) Getting Lasso MSE"
      ],
      "metadata": {
        "id": "kJ7GQyHltCZk"
      }
    },
    {
      "cell_type": "code",
      "source": [
        "lambda_values = [0.000001, 0.0001, 0.001, 0.005, 0.01, 0.05,  0.1, 0.2, 0.3, 0.4, 0.5]\n",
        "\n",
        "for lambda_val in lambda_values:\n",
        "    lasso_reg = Lasso(lambda_val)\n",
        "    lasso_reg.fit(X_train, y_train)\n",
        "    y_pred = lasso_reg.predict(X_test)\n",
        "    mse_lasso = mean_squared_error(y_pred, y_test)\n",
        "    print((\"Lasso MSE with Lambda={} is {}\").format(lambda_val, mse_lasso))"
      ],
      "metadata": {
        "colab": {
          "base_uri": "https://localhost:8080/"
        },
        "id": "sC_sACiDnO4h",
        "outputId": "53774f19-71fc-45a1-d7be-1dd8d268186c"
      },
      "execution_count": 79,
      "outputs": [
        {
          "output_type": "stream",
          "name": "stdout",
          "text": [
            "Lasso MSE with Lambda=1e-06 is 6.365573187964432\n",
            "Lasso MSE with Lambda=0.0001 is 6.3497037030409\n",
            "Lasso MSE with Lambda=0.001 is 6.211388388151761\n",
            "Lasso MSE with Lambda=0.005 is 5.726363213840866\n",
            "Lasso MSE with Lambda=0.01 is 5.411548113524234\n",
            "Lasso MSE with Lambda=0.05 is 5.263737896443069\n",
            "Lasso MSE with Lambda=0.1 is 4.903847171765334\n",
            "Lasso MSE with Lambda=0.2 is 4.363168988410968\n",
            "Lasso MSE with Lambda=0.3 is 4.2516592908158914\n",
            "Lasso MSE with Lambda=0.4 is 4.569299505022656\n",
            "Lasso MSE with Lambda=0.5 is 5.316188931738344\n"
          ]
        }
      ]
    },
    {
      "cell_type": "markdown",
      "source": [
        "##4b) Getting Lasso Coefficients"
      ],
      "metadata": {
        "id": "OAPKdkwWtKS1"
      }
    },
    {
      "cell_type": "code",
      "source": [
        "print(lasso_reg.coef_)\n",
        "#NOTICE THAT SOME COEFFICIENTS ARE ZERO!\n",
        "#Meaning, some FEATURES have been ZEROED OUT!"
      ],
      "metadata": {
        "colab": {
          "base_uri": "https://localhost:8080/"
        },
        "id": "lah-KQQRnTF6",
        "outputId": "bfc44793-444b-4cdb-cdfe-8e08c7e82556"
      },
      "execution_count": 80,
      "outputs": [
        {
          "output_type": "stream",
          "name": "stdout",
          "text": [
            "[-0.         -0.00465237 -0.20754173  0.         -0.          4.1765001\n",
            " -0.04301186 -0.         -0.         -0.01274246 -0.2694468   0.01186561\n",
            " -0.27931101]\n"
          ]
        }
      ]
    },
    {
      "cell_type": "markdown",
      "source": [
        "\n",
        "\n",
        "---\n",
        "\n"
      ],
      "metadata": {
        "id": "CCBFsRxsnWEp"
      }
    },
    {
      "cell_type": "markdown",
      "source": [
        "#Step 5: L2 - Ridge Regression"
      ],
      "metadata": {
        "id": "B-6WiDzPtUoj"
      }
    },
    {
      "cell_type": "markdown",
      "source": [
        "##5a) Getting Ridge MSE"
      ],
      "metadata": {
        "id": "EMTcmpuitXzi"
      }
    },
    {
      "cell_type": "code",
      "source": [
        "lambda_values = [0.00001, 0.01, 0.05, 0.1, 0.5, 1, 1.5, 3, 5, 6, 7, 8, 9, 10]\n",
        "\n",
        "for lambda_val in lambda_values:\n",
        "    ridge_reg = Ridge(lambda_val)\n",
        "    ridge_reg.fit(X_train, y_train)\n",
        "    y_pred = ridge_reg.predict(X_test)\n",
        "    mse_ridge = mean_squared_error(y_pred, y_test)\n",
        "    print((\"Ridge MSE with Lambda={} is {}\").format(lambda_val, mse_ridge))"
      ],
      "metadata": {
        "colab": {
          "base_uri": "https://localhost:8080/"
        },
        "id": "8J39RXeHnq5C",
        "outputId": "c7064dab-51e4-4f87-d8eb-400cd5d1f26e"
      },
      "execution_count": 81,
      "outputs": [
        {
          "output_type": "stream",
          "name": "stdout",
          "text": [
            "Ridge MSE with Lambda=1e-05 is 6.36516470349015\n",
            "Ridge MSE with Lambda=0.01 is 5.974605793676387\n",
            "Ridge MSE with Lambda=0.05 is 5.533200380976024\n",
            "Ridge MSE with Lambda=0.1 is 5.3925069171769575\n",
            "Ridge MSE with Lambda=0.5 is 4.958888346329863\n",
            "Ridge MSE with Lambda=1 is 4.6099591818212575\n",
            "Ridge MSE with Lambda=1.5 is 4.381430640413449\n",
            "Ridge MSE with Lambda=3 is 4.144021177550216\n",
            "Ridge MSE with Lambda=5 is 4.337309782014395\n",
            "Ridge MSE with Lambda=6 is 4.523375817049083\n",
            "Ridge MSE with Lambda=7 is 4.733551913450155\n",
            "Ridge MSE with Lambda=8 is 4.954202530190625\n",
            "Ridge MSE with Lambda=9 is 5.177084341160097\n",
            "Ridge MSE with Lambda=10 is 5.397233430913719\n"
          ]
        }
      ]
    },
    {
      "cell_type": "markdown",
      "source": [
        "##5b) Getting Ridge Coefficients"
      ],
      "metadata": {
        "id": "VmBcYTz6tnR0"
      }
    },
    {
      "cell_type": "code",
      "source": [
        "print(ridge_reg.coef_)\n",
        "\n",
        "#NOTICE THAT ALL FEATURES (except one) ARE PRESENT\n",
        "#AND ALL WEIGHTS ARE GIVEN ALMOST SIMILAR IMPORTANCE!\n",
        "#that is, ALL features are accounted for!"
      ],
      "metadata": {
        "colab": {
          "base_uri": "https://localhost:8080/"
        },
        "id": "tEZfhtfUntNi",
        "outputId": "d37eba64-4c0b-45ab-947d-4f8613527993"
      },
      "execution_count": 82,
      "outputs": [
        {
          "output_type": "stream",
          "name": "stdout",
          "text": [
            "[[-5.08790911e-01 -1.07642424e-02 -2.51669160e-01  0.00000000e+00\n",
            "   3.59195624e-03  3.76304412e+00 -3.71563298e-02  2.77184371e-02\n",
            "  -1.53559311e-01 -8.99656296e-03 -4.24245154e-01  5.34856750e-03\n",
            "  -3.22059452e-01]]\n"
          ]
        }
      ]
    },
    {
      "cell_type": "markdown",
      "source": [
        "\n",
        "\n",
        "---\n",
        "\n"
      ],
      "metadata": {
        "id": "61cQgjvyuO5D"
      }
    },
    {
      "cell_type": "markdown",
      "source": [
        "#Step 6: Elastic Net Regression"
      ],
      "metadata": {
        "id": "ddA0owSM07pF"
      }
    },
    {
      "cell_type": "markdown",
      "source": [
        "Elastic Net Regression means Mixture of L1 and L2"
      ],
      "metadata": {
        "id": "M5NpjXLUIzkw"
      }
    },
    {
      "cell_type": "markdown",
      "source": [
        "##6a) Getting EN Regression"
      ],
      "metadata": {
        "id": "hLLYHdxCHq0P"
      }
    },
    {
      "cell_type": "code",
      "source": [
        "from sklearn.linear_model import ElasticNet\n",
        "\n",
        "lambda_values = [0.00001, 0.01, 0.05, 0.1, 0.5, 1, 1.5, 3, 5, 6, 7, 8, 9, 10]\n",
        "\n",
        "for lambda_val in lambda_values:\n",
        "    EN_reg = ElasticNet(lambda_val, l1_ratio = 0.5)\n",
        "    EN_reg.fit(X_train, y_train)\n",
        "    y_pred = EN_reg.predict(X_test)\n",
        "    mse_EN = mean_squared_error(y_pred, y_test)\n",
        "    print((\"ElasticNet MSE with Lambda={} is {}\").format(lambda_val, mse_EN))\n",
        "\n",
        "    #l1_ratio is between 0 to 1\n",
        "    #Meaning : 0 <= l1_ratio <= 1\n",
        "    #If l1_ratio = 0 means NO L1(Lasso), CONTAINS ONLY L2(Ridge)\n",
        "    #If l1_ratio = 1 means NO L2, CONTAINS ONLY L1\n",
        "    #If l1_ratio = 0.5 means HALF L1 and HALF L2"
      ],
      "metadata": {
        "colab": {
          "base_uri": "https://localhost:8080/"
        },
        "id": "kDD6dOk2z2V0",
        "outputId": "df8e7cea-e5df-436d-fca2-3f0189f1af7a"
      },
      "execution_count": 83,
      "outputs": [
        {
          "output_type": "stream",
          "name": "stdout",
          "text": [
            "ElasticNet MSE with Lambda=1e-05 is 6.3425546923512295\n",
            "ElasticNet MSE with Lambda=0.01 is 5.010655145516045\n",
            "ElasticNet MSE with Lambda=0.05 is 4.241780686298112\n",
            "ElasticNet MSE with Lambda=0.1 is 4.310069062664355\n",
            "ElasticNet MSE with Lambda=0.5 is 8.536143785192817\n",
            "ElasticNet MSE with Lambda=1 is 11.515985845758951\n",
            "ElasticNet MSE with Lambda=1.5 is 13.373484125442392\n",
            "ElasticNet MSE with Lambda=3 is 15.740399667184102\n",
            "ElasticNet MSE with Lambda=5 is 16.771682464187837\n",
            "ElasticNet MSE with Lambda=6 is 17.34053278224848\n",
            "ElasticNet MSE with Lambda=7 is 17.937997574609007\n",
            "ElasticNet MSE with Lambda=8 is 18.48755285934491\n",
            "ElasticNet MSE with Lambda=9 is 19.057531219726023\n",
            "ElasticNet MSE with Lambda=10 is 19.645401193497044\n"
          ]
        }
      ]
    },
    {
      "cell_type": "markdown",
      "source": [
        "##6b) Getting EN Coefficients"
      ],
      "metadata": {
        "id": "LRCMm1_ZHvHp"
      }
    },
    {
      "cell_type": "code",
      "source": [
        "print(EN_reg.coef_)"
      ],
      "metadata": {
        "colab": {
          "base_uri": "https://localhost:8080/"
        },
        "id": "846QMTfb01Vd",
        "outputId": "d9574b48-e4c0-4275-feae-6df16c2bf5a2"
      },
      "execution_count": 84,
      "outputs": [
        {
          "output_type": "stream",
          "name": "stdout",
          "text": [
            "[-0.          0.00939145 -0.          0.         -0.          0.\n",
            " -0.04533207 -0.         -0.         -0.03157748 -0.          0.03253858\n",
            " -0.27448801]\n"
          ]
        }
      ]
    },
    {
      "cell_type": "markdown",
      "source": [
        "\n",
        "\n",
        "---\n",
        "\n"
      ],
      "metadata": {
        "id": "i-r15mRInuGD"
      }
    },
    {
      "cell_type": "markdown",
      "source": [
        "#Step 7: Which is the BEST?"
      ],
      "metadata": {
        "id": "2YFTOrbeuQVr"
      }
    },
    {
      "cell_type": "code",
      "source": [
        "#Compare LR vs Lasso vs Ridge vs ElasticNet MSE\n",
        "#The LOWEST MSE WINS!\n",
        "\n",
        "#However, note that Elastic Net Regression killed off alot of Features!\n",
        "#Meaning, Elastic Net produces ONLY THE MOST IMPORTANT FEATURES!"
      ],
      "metadata": {
        "id": "TU9P4eg0uSf2"
      },
      "execution_count": 85,
      "outputs": []
    },
    {
      "cell_type": "markdown",
      "source": [
        "\n",
        "\n",
        "---\n",
        "\n"
      ],
      "metadata": {
        "id": "WETe5rpRHKPA"
      }
    },
    {
      "cell_type": "markdown",
      "source": [
        "#THE END\n",
        "\n",
        "\n",
        "---\n",
        "\n"
      ],
      "metadata": {
        "id": "R-VAtqARnu_7"
      }
    }
  ]
}