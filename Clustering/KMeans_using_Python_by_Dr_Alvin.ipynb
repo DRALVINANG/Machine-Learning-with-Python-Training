{
  "nbformat": 4,
  "nbformat_minor": 0,
  "metadata": {
    "colab": {
      "name": "KMeans using Python by Dr Alvin.ipynb",
      "provenance": [],
      "toc_visible": true
    },
    "kernelspec": {
      "name": "python3",
      "display_name": "Python 3"
    },
    "language_info": {
      "name": "python"
    }
  },
  "cells": [
    {
      "cell_type": "code",
      "execution_count": null,
      "metadata": {
        "id": "VxK4zpuyBjO5"
      },
      "outputs": [],
      "source": [
        "import pandas as pd\n",
        "import numpy as np\n",
        "import matplotlib.pyplot as plt\n",
        "from sklearn.cluster import KMeans\n",
        "%matplotlib inline"
      ]
    },
    {
      "cell_type": "code",
      "source": [
        "# generating some random data in a two-dimensional space\n",
        "# A total of 100 data points has been generated and divided into two groups, of 50 points each.\n",
        "\n",
        "X = -2 * np.random.rand(100,2)\n",
        "X"
      ],
      "metadata": {
        "colab": {
          "base_uri": "https://localhost:8080/"
        },
        "id": "54uKbr_XBoF4",
        "outputId": "a4499a7d-825e-4d28-f007-3eeb8e3f13b1"
      },
      "execution_count": null,
      "outputs": [
        {
          "output_type": "execute_result",
          "data": {
            "text/plain": [
              "array([[-1.07454338e+00, -4.94808659e-01],\n",
              "       [-7.27578981e-01, -1.44145986e+00],\n",
              "       [-2.48742904e-01, -2.76016633e-01],\n",
              "       [-1.97818809e+00, -9.00636156e-01],\n",
              "       [-9.43871177e-01, -5.90283784e-01],\n",
              "       [-1.29295121e+00, -1.68408531e+00],\n",
              "       [-9.65537842e-01, -6.28839774e-05],\n",
              "       [-2.09497227e-01, -4.34832927e-01],\n",
              "       [-1.15082557e+00, -9.21693628e-01],\n",
              "       [-8.48402652e-01, -1.57015432e+00],\n",
              "       [-3.98043100e-01, -1.82064280e+00],\n",
              "       [-1.66043532e+00, -6.76844312e-02],\n",
              "       [-1.82533701e+00, -1.52224419e+00],\n",
              "       [-1.29036274e+00, -1.30881805e+00],\n",
              "       [-1.90288850e+00, -1.29095001e+00],\n",
              "       [-7.82412106e-01, -1.57401329e+00],\n",
              "       [-1.91209355e+00, -2.56014440e-02],\n",
              "       [-1.19675969e+00, -1.11158968e+00],\n",
              "       [-1.13003555e+00, -5.21725946e-01],\n",
              "       [-1.83049978e+00, -1.62622441e+00],\n",
              "       [-1.54335924e+00, -6.41729533e-01],\n",
              "       [-1.05895564e+00, -3.47469998e-01],\n",
              "       [-1.97016256e-01, -3.34731444e-01],\n",
              "       [-6.22277722e-01, -1.18862937e+00],\n",
              "       [-6.88977550e-01, -1.96712306e+00],\n",
              "       [-2.84416854e-01, -2.16342470e-01],\n",
              "       [-1.86235170e+00, -5.67428457e-02],\n",
              "       [-4.02243696e-01, -1.94437625e+00],\n",
              "       [-4.81720021e-01, -4.64226619e-01],\n",
              "       [-1.23645591e+00, -1.15966442e+00],\n",
              "       [-1.17052894e+00, -1.60956159e-01],\n",
              "       [-1.89649008e+00, -1.21363276e+00],\n",
              "       [-1.48826038e+00, -9.08649960e-01],\n",
              "       [-3.75111297e-01, -7.39981495e-01],\n",
              "       [-1.12298042e+00, -5.74796355e-01],\n",
              "       [-1.95656706e+00, -1.43091440e+00],\n",
              "       [-1.51497876e+00, -9.53811193e-01],\n",
              "       [-1.31898690e+00, -1.28136659e+00],\n",
              "       [-7.39274004e-01, -4.80804886e-01],\n",
              "       [-6.74971899e-01, -3.61000115e-02],\n",
              "       [-5.52523032e-01, -1.67907336e+00],\n",
              "       [-2.83144890e-01, -1.54422902e+00],\n",
              "       [-8.11381790e-02, -1.81707906e+00],\n",
              "       [-1.94071328e+00, -7.23819444e-01],\n",
              "       [-1.57338954e+00, -1.22305822e+00],\n",
              "       [-3.00914499e-01, -3.48957687e-01],\n",
              "       [-4.67007695e-01, -1.24397394e+00],\n",
              "       [-1.52523234e+00, -1.06711923e+00],\n",
              "       [-1.04069311e+00, -6.04343162e-01],\n",
              "       [-4.71547500e-03, -1.25414401e+00],\n",
              "       [-1.87260692e+00, -1.03036224e+00],\n",
              "       [-1.48392273e+00, -9.61002374e-01],\n",
              "       [-1.48000474e+00, -1.36387374e+00],\n",
              "       [-1.53037881e+00, -1.45722844e+00],\n",
              "       [-1.39872823e+00, -1.22576515e+00],\n",
              "       [-3.54184543e-02, -1.69706443e+00],\n",
              "       [-1.38121547e+00, -1.48307812e+00],\n",
              "       [-7.78859294e-01, -2.54279670e-01],\n",
              "       [-1.40514300e+00, -1.84925988e+00],\n",
              "       [-5.49428590e-01, -1.00773919e+00],\n",
              "       [-1.37358784e-01, -3.61567745e-01],\n",
              "       [-1.25579375e+00, -6.99053778e-01],\n",
              "       [-9.36698918e-01, -1.42911036e+00],\n",
              "       [-1.28579344e+00, -1.84260344e+00],\n",
              "       [-1.12990687e+00, -1.47154778e+00],\n",
              "       [-4.91830317e-01, -1.12022417e+00],\n",
              "       [-2.90724569e-01, -4.54981553e-02],\n",
              "       [-6.41553437e-01, -6.93526316e-01],\n",
              "       [-7.44372340e-01, -1.61347252e-01],\n",
              "       [-2.81579201e-02, -6.21588248e-01],\n",
              "       [-7.43341298e-01, -1.66175694e-01],\n",
              "       [-6.54308479e-01, -1.14257368e+00],\n",
              "       [-1.50990928e+00, -1.98585779e-01],\n",
              "       [-1.88108660e+00, -1.80652943e+00],\n",
              "       [-4.98425607e-01, -3.74538607e-01],\n",
              "       [-1.34173400e+00, -4.92109337e-01],\n",
              "       [-1.77231682e+00, -1.16114962e+00],\n",
              "       [-1.29907852e+00, -1.61845776e+00],\n",
              "       [-1.08156007e+00, -9.85650569e-01],\n",
              "       [-4.26489707e-02, -5.41723417e-01],\n",
              "       [-7.52273524e-01, -1.86173890e+00],\n",
              "       [-1.57923042e+00, -1.11646969e+00],\n",
              "       [-5.10685016e-01, -1.38950708e+00],\n",
              "       [-3.03889361e-01, -1.78732107e+00],\n",
              "       [-1.78417893e-01, -1.28679650e+00],\n",
              "       [-4.28822368e-02, -1.06382833e+00],\n",
              "       [-1.46802811e+00, -1.03191119e-01],\n",
              "       [-9.16319896e-01, -1.26528941e+00],\n",
              "       [-1.89825948e+00, -1.72133530e+00],\n",
              "       [-1.51734923e+00, -1.88563565e+00],\n",
              "       [-1.14590903e+00, -1.80120487e+00],\n",
              "       [-9.40057123e-01, -1.35993766e-01],\n",
              "       [-1.67682131e+00, -4.15858225e-01],\n",
              "       [-1.34447169e-01, -1.60697446e-01],\n",
              "       [-1.07014154e+00, -6.67094183e-01],\n",
              "       [-3.55895857e-01, -1.50164748e+00],\n",
              "       [-7.41356230e-01, -1.77618891e+00],\n",
              "       [-5.06832671e-01, -7.10820499e-01],\n",
              "       [-1.65410890e+00, -1.01979892e+00],\n",
              "       [-8.18182157e-01, -1.24634443e+00]])"
            ]
          },
          "metadata": {},
          "execution_count": 28
        }
      ]
    },
    {
      "cell_type": "code",
      "source": [
        "X1 = 1 + 2 * np.random.rand(50,2)\n",
        "X1"
      ],
      "metadata": {
        "colab": {
          "base_uri": "https://localhost:8080/"
        },
        "id": "WIQMvH6dDkfe",
        "outputId": "d9a42abc-5bfd-45f4-f16d-6a8665881dfc"
      },
      "execution_count": null,
      "outputs": [
        {
          "output_type": "execute_result",
          "data": {
            "text/plain": [
              "array([[1.12100357, 2.95892271],\n",
              "       [2.1514379 , 1.64852399],\n",
              "       [2.09344478, 2.50886366],\n",
              "       [1.43457979, 1.99377951],\n",
              "       [1.02521877, 1.06832881],\n",
              "       [1.88264897, 1.2481653 ],\n",
              "       [1.25907178, 1.94874584],\n",
              "       [2.41181655, 1.02306719],\n",
              "       [2.4078147 , 1.29561769],\n",
              "       [2.38761386, 2.3028747 ],\n",
              "       [1.94437145, 1.4862476 ],\n",
              "       [1.57702891, 1.41080845],\n",
              "       [2.24628332, 2.12263579],\n",
              "       [2.41603071, 2.62449005],\n",
              "       [1.11655973, 2.34054106],\n",
              "       [2.64064297, 1.54523851],\n",
              "       [1.37890577, 1.08547296],\n",
              "       [2.32572176, 2.27849449],\n",
              "       [1.87642967, 2.68110825],\n",
              "       [1.27827247, 1.3419867 ],\n",
              "       [2.5837577 , 1.96908951],\n",
              "       [1.40038985, 1.39715912],\n",
              "       [2.92945962, 2.39443022],\n",
              "       [2.24532621, 1.50731714],\n",
              "       [1.14031303, 2.65922686],\n",
              "       [2.65868377, 2.50001884],\n",
              "       [1.0235637 , 1.83368963],\n",
              "       [1.03619648, 1.47178972],\n",
              "       [1.39156278, 1.09463657],\n",
              "       [1.0641629 , 1.59981976],\n",
              "       [2.26653125, 1.22369642],\n",
              "       [1.16113882, 2.6613927 ],\n",
              "       [1.38289164, 1.82556874],\n",
              "       [1.79015531, 2.48591335],\n",
              "       [1.61567987, 2.97676167],\n",
              "       [1.30307931, 2.65152092],\n",
              "       [2.2173492 , 2.25388373],\n",
              "       [2.48253256, 2.94161225],\n",
              "       [1.72330439, 2.12709244],\n",
              "       [2.34404575, 1.29830771],\n",
              "       [2.46191253, 2.00178883],\n",
              "       [1.88949224, 2.61191693],\n",
              "       [1.03980299, 2.83943026],\n",
              "       [2.76233819, 2.61109603],\n",
              "       [1.92022224, 2.13997084],\n",
              "       [2.59863284, 1.56581004],\n",
              "       [2.07856319, 2.2265658 ],\n",
              "       [1.46029666, 2.23116564],\n",
              "       [1.36080391, 1.50293759],\n",
              "       [1.31114992, 1.21976384]])"
            ]
          },
          "metadata": {},
          "execution_count": 20
        }
      ]
    },
    {
      "cell_type": "code",
      "source": [
        "X[50:100, :] = X1"
      ],
      "metadata": {
        "id": "IRMSrUH-Dfcf"
      },
      "execution_count": null,
      "outputs": []
    },
    {
      "cell_type": "code",
      "source": [
        "X[50:100,:]"
      ],
      "metadata": {
        "colab": {
          "base_uri": "https://localhost:8080/"
        },
        "id": "5YrH_BWQe9Qk",
        "outputId": "45b3a119-d92d-4e35-d9d2-0985befaf664"
      },
      "execution_count": null,
      "outputs": [
        {
          "output_type": "execute_result",
          "data": {
            "text/plain": [
              "array([[1.12100357, 2.95892271],\n",
              "       [2.1514379 , 1.64852399],\n",
              "       [2.09344478, 2.50886366],\n",
              "       [1.43457979, 1.99377951],\n",
              "       [1.02521877, 1.06832881],\n",
              "       [1.88264897, 1.2481653 ],\n",
              "       [1.25907178, 1.94874584],\n",
              "       [2.41181655, 1.02306719],\n",
              "       [2.4078147 , 1.29561769],\n",
              "       [2.38761386, 2.3028747 ],\n",
              "       [1.94437145, 1.4862476 ],\n",
              "       [1.57702891, 1.41080845],\n",
              "       [2.24628332, 2.12263579],\n",
              "       [2.41603071, 2.62449005],\n",
              "       [1.11655973, 2.34054106],\n",
              "       [2.64064297, 1.54523851],\n",
              "       [1.37890577, 1.08547296],\n",
              "       [2.32572176, 2.27849449],\n",
              "       [1.87642967, 2.68110825],\n",
              "       [1.27827247, 1.3419867 ],\n",
              "       [2.5837577 , 1.96908951],\n",
              "       [1.40038985, 1.39715912],\n",
              "       [2.92945962, 2.39443022],\n",
              "       [2.24532621, 1.50731714],\n",
              "       [1.14031303, 2.65922686],\n",
              "       [2.65868377, 2.50001884],\n",
              "       [1.0235637 , 1.83368963],\n",
              "       [1.03619648, 1.47178972],\n",
              "       [1.39156278, 1.09463657],\n",
              "       [1.0641629 , 1.59981976],\n",
              "       [2.26653125, 1.22369642],\n",
              "       [1.16113882, 2.6613927 ],\n",
              "       [1.38289164, 1.82556874],\n",
              "       [1.79015531, 2.48591335],\n",
              "       [1.61567987, 2.97676167],\n",
              "       [1.30307931, 2.65152092],\n",
              "       [2.2173492 , 2.25388373],\n",
              "       [2.48253256, 2.94161225],\n",
              "       [1.72330439, 2.12709244],\n",
              "       [2.34404575, 1.29830771],\n",
              "       [2.46191253, 2.00178883],\n",
              "       [1.88949224, 2.61191693],\n",
              "       [1.03980299, 2.83943026],\n",
              "       [2.76233819, 2.61109603],\n",
              "       [1.92022224, 2.13997084],\n",
              "       [2.59863284, 1.56581004],\n",
              "       [2.07856319, 2.2265658 ],\n",
              "       [1.46029666, 2.23116564],\n",
              "       [1.36080391, 1.50293759],\n",
              "       [1.31114992, 1.21976384]])"
            ]
          },
          "metadata": {},
          "execution_count": 33
        }
      ]
    },
    {
      "cell_type": "code",
      "source": [
        "X[0: 49,:]"
      ],
      "metadata": {
        "colab": {
          "base_uri": "https://localhost:8080/"
        },
        "id": "OOqUTQaVe5JD",
        "outputId": "cd1600f7-f467-42c7-8173-1ce467c15c23"
      },
      "execution_count": null,
      "outputs": [
        {
          "output_type": "execute_result",
          "data": {
            "text/plain": [
              "array([[-1.07454338e+00, -4.94808659e-01],\n",
              "       [-7.27578981e-01, -1.44145986e+00],\n",
              "       [-2.48742904e-01, -2.76016633e-01],\n",
              "       [-1.97818809e+00, -9.00636156e-01],\n",
              "       [-9.43871177e-01, -5.90283784e-01],\n",
              "       [-1.29295121e+00, -1.68408531e+00],\n",
              "       [-9.65537842e-01, -6.28839774e-05],\n",
              "       [-2.09497227e-01, -4.34832927e-01],\n",
              "       [-1.15082557e+00, -9.21693628e-01],\n",
              "       [-8.48402652e-01, -1.57015432e+00],\n",
              "       [-3.98043100e-01, -1.82064280e+00],\n",
              "       [-1.66043532e+00, -6.76844312e-02],\n",
              "       [-1.82533701e+00, -1.52224419e+00],\n",
              "       [-1.29036274e+00, -1.30881805e+00],\n",
              "       [-1.90288850e+00, -1.29095001e+00],\n",
              "       [-7.82412106e-01, -1.57401329e+00],\n",
              "       [-1.91209355e+00, -2.56014440e-02],\n",
              "       [-1.19675969e+00, -1.11158968e+00],\n",
              "       [-1.13003555e+00, -5.21725946e-01],\n",
              "       [-1.83049978e+00, -1.62622441e+00],\n",
              "       [-1.54335924e+00, -6.41729533e-01],\n",
              "       [-1.05895564e+00, -3.47469998e-01],\n",
              "       [-1.97016256e-01, -3.34731444e-01],\n",
              "       [-6.22277722e-01, -1.18862937e+00],\n",
              "       [-6.88977550e-01, -1.96712306e+00],\n",
              "       [-2.84416854e-01, -2.16342470e-01],\n",
              "       [-1.86235170e+00, -5.67428457e-02],\n",
              "       [-4.02243696e-01, -1.94437625e+00],\n",
              "       [-4.81720021e-01, -4.64226619e-01],\n",
              "       [-1.23645591e+00, -1.15966442e+00],\n",
              "       [-1.17052894e+00, -1.60956159e-01],\n",
              "       [-1.89649008e+00, -1.21363276e+00],\n",
              "       [-1.48826038e+00, -9.08649960e-01],\n",
              "       [-3.75111297e-01, -7.39981495e-01],\n",
              "       [-1.12298042e+00, -5.74796355e-01],\n",
              "       [-1.95656706e+00, -1.43091440e+00],\n",
              "       [-1.51497876e+00, -9.53811193e-01],\n",
              "       [-1.31898690e+00, -1.28136659e+00],\n",
              "       [-7.39274004e-01, -4.80804886e-01],\n",
              "       [-6.74971899e-01, -3.61000115e-02],\n",
              "       [-5.52523032e-01, -1.67907336e+00],\n",
              "       [-2.83144890e-01, -1.54422902e+00],\n",
              "       [-8.11381790e-02, -1.81707906e+00],\n",
              "       [-1.94071328e+00, -7.23819444e-01],\n",
              "       [-1.57338954e+00, -1.22305822e+00],\n",
              "       [-3.00914499e-01, -3.48957687e-01],\n",
              "       [-4.67007695e-01, -1.24397394e+00],\n",
              "       [-1.52523234e+00, -1.06711923e+00],\n",
              "       [-1.04069311e+00, -6.04343162e-01]])"
            ]
          },
          "metadata": {},
          "execution_count": 32
        }
      ]
    },
    {
      "cell_type": "code",
      "source": [
        "plt.scatter(X[ : , 0], X[ :, 1], s = 50, c = 'b')\n",
        "plt.show()"
      ],
      "metadata": {
        "colab": {
          "base_uri": "https://localhost:8080/",
          "height": 265
        },
        "id": "BJbG9kFODb4B",
        "outputId": "bd8651f3-cc76-4493-c6af-d152ba9179fb"
      },
      "execution_count": null,
      "outputs": [
        {
          "output_type": "display_data",
          "data": {
            "text/plain": [
              "<Figure size 432x288 with 1 Axes>"
            ],
            "image/png": "[encoded data removed]"
          },
          "metadata": {
            "needs_background": "light"
          }
        }
      ]
    },
    {
      "cell_type": "code",
      "source": [
        "from sklearn.cluster import KMeans\n",
        "Kmean = KMeans(n_clusters=2)\n",
        "Kmean.fit(X)"
      ],
      "metadata": {
        "colab": {
          "base_uri": "https://localhost:8080/"
        },
        "id": "ImlwT8HBBrPI",
        "outputId": "a1e19e70-3537-4cb4-f439-ffcd34c07449"
      },
      "execution_count": null,
      "outputs": [
        {
          "output_type": "execute_result",
          "data": {
            "text/plain": [
              "KMeans(n_clusters=2)"
            ]
          },
          "metadata": {},
          "execution_count": 53
        }
      ]
    },
    {
      "cell_type": "code",
      "source": [
        "Kmean.cluster_centers_"
      ],
      "metadata": {
        "colab": {
          "base_uri": "https://localhost:8080/"
        },
        "id": "iwYCroWDBw5n",
        "outputId": "f9d268ee-5566-40ff-a47e-01235e58f60b"
      },
      "execution_count": null,
      "outputs": [
        {
          "output_type": "execute_result",
          "data": {
            "text/plain": [
              "array([[ 1.83236473,  1.97474573],\n",
              "       [-1.03548806, -0.93582751]])"
            ]
          },
          "metadata": {},
          "execution_count": 54
        }
      ]
    },
    {
      "cell_type": "code",
      "source": [
        "plt.scatter(X[ : , 0], X[ : , 1], s =50, c='b')\n",
        "plt.scatter(-1.04, -0.94, c='g', s = 200, marker='s')\n",
        "plt.scatter(1.83, 1.97, c='r', s = 200, marker='s')\n",
        "plt.show()"
      ],
      "metadata": {
        "colab": {
          "base_uri": "https://localhost:8080/",
          "height": 265
        },
        "id": "UuuR2IFmB3IJ",
        "outputId": "9183a618-d0ea-43a5-fd1e-1a9f085bc315"
      },
      "execution_count": null,
      "outputs": [
        {
          "output_type": "display_data",
          "data": {
            "text/plain": [
              "<Figure size 432x288 with 1 Axes>"
            ],
            "image/png": "[encoded data removed]"
          },
          "metadata": {
            "needs_background": "light"
          }
        }
      ]
    },
    {
      "cell_type": "code",
      "source": [
        "Kmean.labels_"
      ],
      "metadata": {
        "colab": {
          "base_uri": "https://localhost:8080/"
        },
        "id": "n1_bdtycB5hb",
        "outputId": "3171d330-d9ee-4b88-f721-8a54794613b8"
      },
      "execution_count": null,
      "outputs": [
        {
          "output_type": "execute_result",
          "data": {
            "text/plain": [
              "array([1, 1, 1, 1, 1, 1, 1, 1, 1, 1, 1, 1, 1, 1, 1, 1, 1, 1, 1, 1, 1, 1,\n",
              "       1, 1, 1, 1, 1, 1, 1, 1, 1, 1, 1, 1, 1, 1, 1, 1, 1, 1, 1, 1, 1, 1,\n",
              "       1, 1, 1, 1, 1, 1, 0, 0, 0, 0, 0, 0, 0, 0, 0, 0, 0, 0, 0, 0, 0, 0,\n",
              "       0, 0, 0, 0, 0, 0, 0, 0, 0, 0, 0, 0, 0, 0, 0, 0, 0, 0, 0, 0, 0, 0,\n",
              "       0, 0, 0, 0, 0, 0, 0, 0, 0, 0, 0, 0], dtype=int32)"
            ]
          },
          "metadata": {},
          "execution_count": 59
        }
      ]
    },
    {
      "cell_type": "code",
      "source": [
        "sample_test=np.array([-3.0,-3.0])\n",
        "sample_test"
      ],
      "metadata": {
        "colab": {
          "base_uri": "https://localhost:8080/"
        },
        "id": "Ja55cN6IB7n1",
        "outputId": "0fbb0295-71af-4dae-8df6-cccaccc8e602"
      },
      "execution_count": null,
      "outputs": [
        {
          "output_type": "execute_result",
          "data": {
            "text/plain": [
              "array([-3., -3.])"
            ]
          },
          "metadata": {},
          "execution_count": 50
        }
      ]
    },
    {
      "cell_type": "code",
      "source": [
        "second_test=sample_test.reshape(1, -1)\n",
        "second_test"
      ],
      "metadata": {
        "colab": {
          "base_uri": "https://localhost:8080/"
        },
        "id": "-u7a7VVlDFH_",
        "outputId": "a5c18da9-a6c8-406c-d78b-d3e9bdbf2f48"
      },
      "execution_count": null,
      "outputs": [
        {
          "output_type": "execute_result",
          "data": {
            "text/plain": [
              "array([[-3., -3.]])"
            ]
          },
          "metadata": {},
          "execution_count": 51
        }
      ]
    },
    {
      "cell_type": "code",
      "source": [
        "Kmean.predict(second_test)"
      ],
      "metadata": {
        "colab": {
          "base_uri": "https://localhost:8080/"
        },
        "id": "V6eykvUCDGy3",
        "outputId": "755d0018-478f-4f1a-8216-491edac0f4ef"
      },
      "execution_count": null,
      "outputs": [
        {
          "output_type": "execute_result",
          "data": {
            "text/plain": [
              "array([1], dtype=int32)"
            ]
          },
          "metadata": {},
          "execution_count": 60
        }
      ]
    }
  ]
}